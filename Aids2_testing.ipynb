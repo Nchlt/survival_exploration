{
 "cells": [
  {
   "cell_type": "markdown",
   "metadata": {},
   "source": [
    "# Testing things on Aids2 dataset\n",
    "\n",
    "In this notebook we train a decision tree regressor to predict the time of death of individuals based on the data given in the Aids2 dataset. The decision tree treats censored data like any other example of the dataset yet the concordance index seems high. \n",
    "We don't know how to explain this high score, maybe we are misusing the lifelines package concordance_index scoring function. "
   ]
  },
  {
   "cell_type": "code",
   "execution_count": 5,
   "metadata": {
    "collapsed": true
   },
   "outputs": [],
   "source": [
    "import pandas as pd\n",
    "import numpy as np \n",
    "from sklearn.model_selection import train_test_split\n",
    "from sklearn.model_selection import cross_val_score"
   ]
  },
  {
   "cell_type": "markdown",
   "metadata": {},
   "source": [
    "## Dataset preparation"
   ]
  },
  {
   "cell_type": "code",
   "execution_count": 6,
   "metadata": {},
   "outputs": [
    {
     "name": "stdout",
     "output_type": "stream",
     "text": [
      "(1990, 14)\n",
      "(1990,)\n",
      "(853, 14)\n",
      "(853,)\n"
     ]
    },
    {
     "data": {
      "text/html": [
       "<div>\n",
       "<style>\n",
       "    .dataframe thead tr:only-child th {\n",
       "        text-align: right;\n",
       "    }\n",
       "\n",
       "    .dataframe thead th {\n",
       "        text-align: left;\n",
       "    }\n",
       "\n",
       "    .dataframe tbody tr th {\n",
       "        vertical-align: top;\n",
       "    }\n",
       "</style>\n",
       "<table border=\"1\" class=\"dataframe\">\n",
       "  <thead>\n",
       "    <tr style=\"text-align: right;\">\n",
       "      <th></th>\n",
       "      <th>Unnamed: 0</th>\n",
       "      <th>diag</th>\n",
       "      <th>death</th>\n",
       "      <th>age</th>\n",
       "      <th>state_Other</th>\n",
       "      <th>state_QLD</th>\n",
       "      <th>state_VIC</th>\n",
       "      <th>sex_M</th>\n",
       "      <th>status_D</th>\n",
       "      <th>T.categ_haem</th>\n",
       "      <th>T.categ_het</th>\n",
       "      <th>T.categ_hs</th>\n",
       "      <th>T.categ_hsid</th>\n",
       "      <th>T.categ_id</th>\n",
       "      <th>T.categ_mother</th>\n",
       "      <th>T.categ_other</th>\n",
       "    </tr>\n",
       "  </thead>\n",
       "  <tbody>\n",
       "    <tr>\n",
       "      <th>0</th>\n",
       "      <td>1</td>\n",
       "      <td>10905</td>\n",
       "      <td>11081</td>\n",
       "      <td>35</td>\n",
       "      <td>0</td>\n",
       "      <td>0</td>\n",
       "      <td>0</td>\n",
       "      <td>1</td>\n",
       "      <td>1</td>\n",
       "      <td>0</td>\n",
       "      <td>0</td>\n",
       "      <td>1</td>\n",
       "      <td>0</td>\n",
       "      <td>0</td>\n",
       "      <td>0</td>\n",
       "      <td>0</td>\n",
       "    </tr>\n",
       "    <tr>\n",
       "      <th>1</th>\n",
       "      <td>2</td>\n",
       "      <td>11029</td>\n",
       "      <td>11096</td>\n",
       "      <td>53</td>\n",
       "      <td>0</td>\n",
       "      <td>0</td>\n",
       "      <td>0</td>\n",
       "      <td>1</td>\n",
       "      <td>1</td>\n",
       "      <td>0</td>\n",
       "      <td>0</td>\n",
       "      <td>1</td>\n",
       "      <td>0</td>\n",
       "      <td>0</td>\n",
       "      <td>0</td>\n",
       "      <td>0</td>\n",
       "    </tr>\n",
       "    <tr>\n",
       "      <th>2</th>\n",
       "      <td>3</td>\n",
       "      <td>9551</td>\n",
       "      <td>9983</td>\n",
       "      <td>42</td>\n",
       "      <td>0</td>\n",
       "      <td>0</td>\n",
       "      <td>0</td>\n",
       "      <td>1</td>\n",
       "      <td>1</td>\n",
       "      <td>0</td>\n",
       "      <td>0</td>\n",
       "      <td>1</td>\n",
       "      <td>0</td>\n",
       "      <td>0</td>\n",
       "      <td>0</td>\n",
       "      <td>0</td>\n",
       "    </tr>\n",
       "    <tr>\n",
       "      <th>3</th>\n",
       "      <td>4</td>\n",
       "      <td>9577</td>\n",
       "      <td>9654</td>\n",
       "      <td>44</td>\n",
       "      <td>0</td>\n",
       "      <td>0</td>\n",
       "      <td>0</td>\n",
       "      <td>1</td>\n",
       "      <td>1</td>\n",
       "      <td>1</td>\n",
       "      <td>0</td>\n",
       "      <td>0</td>\n",
       "      <td>0</td>\n",
       "      <td>0</td>\n",
       "      <td>0</td>\n",
       "      <td>0</td>\n",
       "    </tr>\n",
       "    <tr>\n",
       "      <th>4</th>\n",
       "      <td>5</td>\n",
       "      <td>10015</td>\n",
       "      <td>10290</td>\n",
       "      <td>39</td>\n",
       "      <td>0</td>\n",
       "      <td>0</td>\n",
       "      <td>0</td>\n",
       "      <td>1</td>\n",
       "      <td>1</td>\n",
       "      <td>0</td>\n",
       "      <td>0</td>\n",
       "      <td>1</td>\n",
       "      <td>0</td>\n",
       "      <td>0</td>\n",
       "      <td>0</td>\n",
       "      <td>0</td>\n",
       "    </tr>\n",
       "  </tbody>\n",
       "</table>\n",
       "</div>"
      ],
      "text/plain": [
       "   Unnamed: 0   diag  death  age  state_Other  state_QLD  state_VIC  sex_M  \\\n",
       "0           1  10905  11081   35            0          0          0      1   \n",
       "1           2  11029  11096   53            0          0          0      1   \n",
       "2           3   9551   9983   42            0          0          0      1   \n",
       "3           4   9577   9654   44            0          0          0      1   \n",
       "4           5  10015  10290   39            0          0          0      1   \n",
       "\n",
       "   status_D  T.categ_haem  T.categ_het  T.categ_hs  T.categ_hsid  T.categ_id  \\\n",
       "0         1             0            0           1             0           0   \n",
       "1         1             0            0           1             0           0   \n",
       "2         1             0            0           1             0           0   \n",
       "3         1             1            0           0             0           0   \n",
       "4         1             0            0           1             0           0   \n",
       "\n",
       "   T.categ_mother  T.categ_other  \n",
       "0               0              0  \n",
       "1               0              0  \n",
       "2               0              0  \n",
       "3               0              0  \n",
       "4               0              0  "
      ]
     },
     "execution_count": 6,
     "metadata": {},
     "output_type": "execute_result"
    }
   ],
   "source": [
    "# Loading data\n",
    "df = pd.read_csv('Aids2.csv')\n",
    "# Converting categorical features to one hot représentation \n",
    "df = pd.get_dummies(df, columns=['state', 'sex', 'status', 'T.categ'], drop_first=True)\n",
    "# Stratified split (since the classifiers are fast, we later use Cross Validation instead\n",
    "# of on split).\n",
    "train, valid = train_test_split(df, test_size=0.3, random_state=42)\n",
    "# Getting labels ready and removing target values from the training and valid sets\n",
    "y_train = train['death'].values\n",
    "y_valid = valid['death'].values\n",
    "X_train = train.drop(['death', 'Unnamed: 0'], axis=1).values\n",
    "X_valid = valid.drop(['death', 'Unnamed: 0'], axis=1).values\n",
    "# Checking the shapes\n",
    "print(X_train.shape)\n",
    "print(y_train.shape)\n",
    "print(X_valid.shape)\n",
    "print(y_valid.shape)\n",
    "\n",
    "df.head()"
   ]
  },
  {
   "cell_type": "code",
   "execution_count": 55,
   "metadata": {
    "collapsed": true
   },
   "outputs": [],
   "source": [
    "# Import some classifiers and evaluation fonctions\n",
    "from sklearn.linear_model import LinearRegression\n",
    "from sklearn.tree import DecisionTreeRegressor\n",
    "from lifelines.utils import concordance_index\n",
    "from sklearn.metrics import mean_absolute_error, make_scorer, cohen_kappa_score"
   ]
  },
  {
   "cell_type": "markdown",
   "metadata": {},
   "source": [
    "## Simple decision tree "
   ]
  },
  {
   "cell_type": "code",
   "execution_count": 8,
   "metadata": {
    "collapsed": true
   },
   "outputs": [],
   "source": [
    "clf = DecisionTreeRegressor()\n",
    "clf.fit(X_train, y_train)\n",
    "pred = clf.predict(X_valid)"
   ]
  },
  {
   "cell_type": "code",
   "execution_count": 9,
   "metadata": {},
   "outputs": [
    {
     "name": "stdout",
     "output_type": "stream",
     "text": [
      "0.896443390444\n",
      "187.923798359\n"
     ]
    }
   ],
   "source": [
    "print(concordance_index(valid['death'], pred, valid['status_D']))\n",
    "print(mean_absolute_error(y_valid, pred))"
   ]
  },
  {
   "cell_type": "markdown",
   "metadata": {},
   "source": [
    "## Decision tree with cv=5"
   ]
  },
  {
   "cell_type": "code",
   "execution_count": 57,
   "metadata": {},
   "outputs": [
    {
     "name": "stdout",
     "output_type": "stream",
     "text": [
      "0.843728 +/- 0.005360\n"
     ]
    }
   ],
   "source": [
    "# We take all the data and we perform 5-fold cv on it with the same decision Tree\n",
    "X = df.drop(['death', 'Unnamed: 0'], axis=1).values\n",
    "y = df['death'].values\n",
    "clf = DecisionTreeRegressor()\n",
    "cv_scores = cross_val_score(clf, X, y, cv=5, scoring=make_scorer(concordance_index))\n",
    "#cv_scores = cross_val_score(clf, X, y, cv=5, scoring=make_scorer(cohen_kappa_score))\n",
    "print('%f +/- %f'%(cv_scores.mean(), cv_scores.var()))"
   ]
  },
  {
   "cell_type": "code",
   "execution_count": 59,
   "metadata": {},
   "outputs": [
    {
     "name": "stdout",
     "output_type": "stream",
     "text": [
      "10669.0\n",
      "9983\n"
     ]
    }
   ],
   "source": []
  },
  {
   "cell_type": "markdown",
   "metadata": {},
   "source": [
    "## Knn with cv=5"
   ]
  },
  {
   "cell_type": "code",
   "execution_count": 67,
   "metadata": {},
   "outputs": [
    {
     "name": "stdout",
     "output_type": "stream",
     "text": [
      "193.143409 +/- 11578.049344\n",
      "0.844416225897\n"
     ]
    }
   ],
   "source": [
    "from sklearn.neighbors import KNeighborsRegressor\n",
    "clf = KNeighborsRegressor(n_neighbors=1, n_jobs=-1)\n",
    "clf = DecisionTreeRegressor()\n",
    "cv_scores_ci = cross_val_score(clf, X, y, cv=5, scoring=make_scorer(concordance_index))\n",
    "cv_scores = cross_val_score(clf, X, y, cv=5, scoring=make_scorer(mean_absolute_error))\n",
    "print('%f +/- %f'%(cv_scores.mean(), cv_scores.var()))\n",
    "print(cv_scores_ci.mean())"
   ]
  },
  {
   "cell_type": "markdown",
   "metadata": {},
   "source": [
    "## Linear regression"
   ]
  },
  {
   "cell_type": "code",
   "execution_count": 63,
   "metadata": {},
   "outputs": [
    {
     "name": "stdout",
     "output_type": "stream",
     "text": [
      "0.864152029212\n",
      "287.117636655\n"
     ]
    }
   ],
   "source": [
    "from sklearn.linear_model import LinearRegression\n",
    "clf = LinearRegression()\n",
    "cv_scores_ci = cross_val_score(clf, X, y, cv=5, scoring=make_scorer(concordance_index))\n",
    "cv_scores_rmse = cross_val_score(clf, X, y, cv=5, scoring=make_scorer(mean_absolute_error))\n",
    "print(cv_scores_ci.mean())\n",
    "print(cv_scores_rmse.mean())"
   ]
  },
  {
   "cell_type": "markdown",
   "metadata": {
    "collapsed": true
   },
   "source": [
    "## Coxph "
   ]
  },
  {
   "cell_type": "code",
   "execution_count": 68,
   "metadata": {
    "collapsed": true
   },
   "outputs": [],
   "source": [
    "from lifelines import CoxPHFitter"
   ]
  },
  {
   "cell_type": "code",
   "execution_count": 69,
   "metadata": {},
   "outputs": [
    {
     "name": "stdout",
     "output_type": "stream",
     "text": [
      "Iteration 1: norm_delta = 1.50375, step_size = 0.95000, ll = -8844.11682, seconds_since_start = 0.1\n",
      "Iteration 2: norm_delta = 0.57818, step_size = 0.95000, ll = -8184.69789, seconds_since_start = 0.2\n",
      "Iteration 3: norm_delta = 0.14768, step_size = 0.95000, ll = -8110.13244, seconds_since_start = 0.3\n",
      "Iteration 4: norm_delta = 0.02544, step_size = 0.95000, ll = -8106.54944, seconds_since_start = 0.4\n",
      "Iteration 5: norm_delta = 0.00186, step_size = 0.95000, ll = -8106.46328, seconds_since_start = 0.4\n",
      "Iteration 6: norm_delta = 0.00010, step_size = 0.95000, ll = -8106.46284, seconds_since_start = 0.5\n",
      "Iteration 7: norm_delta = 0.00000, step_size = 0.95000, ll = -8106.46284, seconds_since_start = 0.6\n",
      "Convergence completed after 7 iterations.\n"
     ]
    },
    {
     "data": {
      "text/plain": [
       "<lifelines.CoxPHFitter: fitted with 1990 observations, 760 censored>"
      ]
     },
     "execution_count": 69,
     "metadata": {},
     "output_type": "execute_result"
    }
   ],
   "source": [
    "cox = CoxPHFitter()\n",
    "cox.fit(train, duration_col='death', event_col='status_D', show_progress=True)"
   ]
  },
  {
   "cell_type": "code",
   "execution_count": 70,
   "metadata": {},
   "outputs": [
    {
     "name": "stdout",
     "output_type": "stream",
     "text": [
      "n=1990, number of events=1230\n",
      "\n",
      "                  coef  exp(coef)  se(coef)        z      p  lower 0.95  upper 0.95     \n",
      "Unnamed: 0     -0.0010     0.9990    0.0001 -11.1466 0.0000     -0.0012     -0.0008  ***\n",
      "diag           -0.0015     0.9985    0.0001 -26.1820 0.0000     -0.0016     -0.0014  ***\n",
      "age             0.0108     1.0109    0.0030   3.6284 0.0003      0.0050      0.0167  ***\n",
      "state_Other     1.4043     4.0726    0.1808   7.7665 0.0000      1.0499      1.7587  ***\n",
      "state_QLD       1.2631     3.5365    0.1503   8.4039 0.0000      0.9685      1.5577  ***\n",
      "state_VIC       1.7134     5.5476    0.1682  10.1871 0.0000      1.3837      2.0430  ***\n",
      "sex_M           0.1536     1.1661    0.2166   0.7093 0.4781     -0.2709      0.5782     \n",
      "T.categ_haem   -0.1315     0.8768    0.2784  -0.4723 0.6367     -0.6772      0.4142     \n",
      "T.categ_het    -1.0967     0.3340    0.3410  -3.2163 0.0013     -1.7650     -0.4284   **\n",
      "T.categ_hs     -0.2828     0.7536    0.1719  -1.6456 0.0998     -0.6197      0.0540    .\n",
      "T.categ_hsid   -0.3832     0.6817    0.2570  -1.4911 0.1359     -0.8868      0.1205     \n",
      "T.categ_id     -0.4601     0.6312    0.3158  -1.4567 0.1452     -1.0791      0.1590     \n",
      "T.categ_mother -0.1891     0.8277    0.7370  -0.2566 0.7975     -1.6337      1.2554     \n",
      "T.categ_other  -0.1853     0.8308    0.2471  -0.7500 0.4533     -0.6697      0.2990     \n",
      "---\n",
      "Signif. codes:  0 '***' 0.001 '**' 0.01 '*' 0.05 '.' 0.1 ' ' 1 \n",
      "\n",
      "Concordance = 0.832\n",
      "Likelihood ratio test = 1475.308 on 14 df, p=0.00000\n"
     ]
    }
   ],
   "source": [
    "cox.print_summary()"
   ]
  },
  {
   "cell_type": "code",
   "execution_count": 71,
   "metadata": {},
   "outputs": [
    {
     "data": {
      "text/plain": [
       "<matplotlib.axes._subplots.AxesSubplot at 0x11a2ba320>"
      ]
     },
     "execution_count": 71,
     "metadata": {},
     "output_type": "execute_result"
    },
    {
     "data": {
      "image/png": "[encoded data removed]",
      "text/plain": [
       "<matplotlib.figure.Figure at 0x11a164be0>"
      ]
     },
     "metadata": {},
     "output_type": "display_data"
    }
   ],
   "source": [
    "%matplotlib inline\n",
    "cox.plot()"
   ]
  },
  {
   "cell_type": "code",
   "execution_count": 85,
   "metadata": {},
   "outputs": [
    {
     "name": "stdout",
     "output_type": "stream",
     "text": [
      "0.842961070802\n",
      "0.536342689905\n",
      "<class 'pandas.core.frame.DataFrame'>\n",
      "21461.3739742\n"
     ]
    }
   ],
   "source": [
    "hazard_tr, hazard_va = cox.predict_partial_hazard(train), cox.predict_partial_hazard(valid)\n",
    "median_tr, median_va = cox.predict_median(train), cox.predict_median(valid).replace([np.inf, -np.inf], np.nan).fillna(value=1e4)\n",
    "score_tr = concordance_index(train['death'], -hazard_tr, train['status_D'])\n",
    "score_va = concordance_index(valid['death'], -hazard_va, valid['status_D'])\n",
    "score_va_2 = concordance_index(valid['death'], -median_va, valid['status_D'])\n",
    "print(score_va)\n",
    "print(score_va_2)\n",
    "print(type(median_va))\n",
    "print(mean_absolute_error(valid['death'], -median_va))"
   ]
  },
  {
   "cell_type": "code",
   "execution_count": 27,
   "metadata": {},
   "outputs": [
    {
     "name": "stdout",
     "output_type": "stream",
     "text": [
      "10967.2200551\n"
     ]
    }
   ],
   "source": [
    "print(mean_absolute_error(y_valid, -hazard_va))"
   ]
  },
  {
   "cell_type": "code",
   "execution_count": 42,
   "metadata": {},
   "outputs": [
    {
     "name": "stdout",
     "output_type": "stream",
     "text": [
      "853\n",
      "(853, 1)\n",
      "[[ 3.6743199 ]\n",
      " [ 4.67968058]\n",
      " [ 1.62871059]\n",
      " [ 0.76483813]\n",
      " [ 0.47680879]\n",
      " [ 6.75465402]\n",
      " [ 0.56925567]\n",
      " [ 1.22429468]\n",
      " [ 3.26131952]\n",
      " [ 0.83727818]]\n",
      "[10103 10480 10984 11495 11504  9894 11504 11504 10032 11504]\n"
     ]
    }
   ],
   "source": [
    "print(hazard_va.shape[0])\n",
    "t = hazard_va.values\n",
    "print(t.shape)\n",
    "print(t[:10])\n",
    "print(y_valid[:10])"
   ]
  },
  {
   "cell_type": "code",
   "execution_count": null,
   "metadata": {
    "collapsed": true
   },
   "outputs": [],
   "source": []
  },
  {
   "cell_type": "code",
   "execution_count": null,
   "metadata": {
    "collapsed": true
   },
   "outputs": [],
   "source": []
  }
 ],
 "metadata": {
  "kernelspec": {
   "display_name": "Python 3",
   "language": "python",
   "name": "python3"
  },
  "language_info": {
   "codemirror_mode": {
    "name": "ipython",
    "version": 3
   },
   "file_extension": ".py",
   "mimetype": "text/x-python",
   "name": "python",
   "nbconvert_exporter": "python",
   "pygments_lexer": "ipython3",
   "version": "3.6.3"
  }
 },
 "nbformat": 4,
 "nbformat_minor": 2
}
